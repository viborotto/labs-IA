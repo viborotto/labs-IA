{
 "cells": [
  {
   "cell_type": "code",
   "execution_count": 44,
   "metadata": {},
   "outputs": [],
   "source": [
    "import copy"
   ]
  },
  {
   "cell_type": "code",
   "execution_count": 45,
   "metadata": {},
   "outputs": [],
   "source": [
    "def calcula_h(estado, posGoal):\n",
    "    h = 0\n",
    "    h_atual = 0\n",
    "\n",
    "    for i in range(len(estado)):\n",
    "        for j in range(len(estado[i])):\n",
    "            h_atual = abs(i - posGoal.get(estado[i][j])[0]) + abs(i - posGoal.get(estado[i][j])[1])\n",
    "            h += h_atual\n",
    "    \n",
    "    return h"
   ]
  },
  {
   "cell_type": "code",
   "execution_count": 46,
   "metadata": {},
   "outputs": [],
   "source": [
    "estado_inicial = [[1, 8, 2], [0, 4, 3], [7, 6, 5]]\n",
    "estado_final = [[1, 2, 3], [4, 5, 6], [7, 8, 0]]"
   ]
  },
  {
   "cell_type": "code",
   "execution_count": 47,
   "metadata": {},
   "outputs": [],
   "source": [
    "posGoal = {\n",
    "    0: (2, 2),\n",
    "    1: (0, 0),\n",
    "    2: (0, 1),\n",
    "    3: (0, 2),\n",
    "    4: (1, 0),\n",
    "    5: (1, 1),\n",
    "    6: (1, 2),\n",
    "    7: (2, 0),\n",
    "    8: (2, 1)\n",
    "}"
   ]
  },
  {
   "cell_type": "code",
   "execution_count": 48,
   "metadata": {},
   "outputs": [],
   "source": [
    "dir = {\n",
    "    \"cima\":(-1, 0),\n",
    "    \"baixo\": (1, 0), \n",
    "    \"direita\": (0, 1),\n",
    "    \"esquerda\": (0, -1)\n",
    "}"
   ]
  },
  {
   "cell_type": "code",
   "execution_count": 49,
   "metadata": {},
   "outputs": [
    {
     "name": "stdout",
     "output_type": "stream",
     "text": [
      "PosX = 1 e PosY = 0\n"
     ]
    }
   ],
   "source": [
    "found = False\n",
    "for i in range(len(estado_inicial)):\n",
    "    for j in range(len(estado_inicial[i])):\n",
    "        if(estado_inicial[i][j] == 0):\n",
    "            x = i\n",
    "            y = j\n",
    "            found = True\n",
    "            break\n",
    "    \n",
    "    if found:\n",
    "        break\n",
    "\n",
    "print(f\"PosX = {x} e PosY = {y}\")\n",
    "    "
   ]
  },
  {
   "cell_type": "code",
   "execution_count": 54,
   "metadata": {},
   "outputs": [
    {
     "name": "stdout",
     "output_type": "stream",
     "text": [
      "1\n",
      "Vou escolher o estado 0 que tem h = 19\n",
      "Iteracao cima:\n",
      "[[0, 8, 2], [1, 4, 3], [7, 6, 5]] e [[1, 8, 2], [7, 4, 3], [0, 6, 5]] e [[1, 8, 2], [4, 0, 3], [7, 6, 5]] e []\n",
      "H de cada um: 19 e 0 e 0 e 0\n",
      "Vou escolher o estado 5 que tem h = 13\n",
      "Iteracao baixo:\n",
      "[[0, 8, 2], [1, 4, 3], [7, 6, 5]] e [[1, 8, 2], [7, 4, 3], [0, 6, 5]] e [[1, 8, 2], [4, 0, 3], [7, 6, 5]] e []\n",
      "H de cada um: 19 e 13 e 0 e 0\n",
      "Vou escolher o estado 11 que tem h = 0\n",
      "Iteracao direita:\n",
      "[[0, 8, 2], [1, 4, 3], [7, 6, 5]] e [[1, 8, 2], [7, 4, 3], [0, 6, 5]] e [[1, 8, 2], [4, 0, 3], [7, 6, 5]] e []\n",
      "H de cada um: 19 e 13 e 15 e 0\n",
      "Vou escolher o estado 15 que tem h = 0\n",
      "Iteracao esquerda:\n",
      "[[0, 8, 2], [1, 4, 3], [7, 6, 5]] e [[1, 8, 2], [7, 4, 3], [0, 6, 5]] e [[1, 8, 2], [4, 0, 3], [7, 6, 5]] e []\n",
      "H de cada um: 19 e 13 e 15 e 0\n"
     ]
    }
   ],
   "source": [
    "cima = False\n",
    "baixo = False\n",
    "direita = False\n",
    "esquerda = False\n",
    "h1 = 0\n",
    "h2 = 0\n",
    "h3 = 0\n",
    "h4 = 0\n",
    "h = []\n",
    "g = 1\n",
    "\n",
    "for key, value in dir.items():\n",
    "    if (key == \"cima\" and x + value[0] >= 0):\n",
    "        aux = estado_inicial[x + value[0]][y]\n",
    "        estado1 = copy.deepcopy(estado_inicial)\n",
    "        estado1[(x + value[0])][y] = 0\n",
    "        estado1[x][y] = aux\n",
    "        print(aux)\n",
    "        cima = True\n",
    "        h1 = calcula_h(estado1, posGoal) + g\n",
    "    # print(estado1)\n",
    "\n",
    "    if (key == \"baixo\" and x + value[0] <= 2):\n",
    "        aux = estado_inicial[(x + value[0])][y]\n",
    "        estado2 = copy.deepcopy(estado_inicial)\n",
    "        estado2[(x + value[0])][y] = 0\n",
    "        estado2[x][y] = aux\n",
    "        baixo = True\n",
    "        h2 = calcula_h(estado2, posGoal) + g\n",
    "    # print(estado2)\n",
    "\n",
    "    if (key == \"direita\" and y + value[1] <= 2):\n",
    "        aux = estado_inicial[x][(y + value[1])]\n",
    "        estado3 = copy.deepcopy(estado_inicial)\n",
    "        estado3[x][(y + value[1])] = 0\n",
    "        estado3[x][y] = aux\n",
    "        direita = True\n",
    "        h3 = calcula_h(estado3, posGoal) + g\n",
    "    # print(estado3)\n",
    "\n",
    "    if (key == \"esquerda\" and y + value[1] >= 0):\n",
    "        aux = estado_inicial[x][(y + value[1])]\n",
    "        estado4 = copy.deepcopy(estado_inicial)\n",
    "        estado4[x][(y + value[1])] = 0\n",
    "        estado4[x][y] = aux\n",
    "        esquerda = True\n",
    "        h4 = calcula_h(estado4, posGoal) + g\n",
    "    # print(estado4)\n",
    "\n",
    "    if (cima):\n",
    "        h.append(h1)\n",
    "    else:\n",
    "        h.append(-1)\n",
    "    if (baixo):\n",
    "        h.append(h2)\n",
    "    else:\n",
    "        h.append(-1)\n",
    "    if (esquerda):\n",
    "        h.append(h3)\n",
    "    else:\n",
    "        h.append(-1)\n",
    "    if (direita):\n",
    "        h.append(h4)\n",
    "    else:\n",
    "        h.append(-1)\n",
    "    \n",
    "    aux = 1000000000\n",
    "    pos = 0\n",
    "    for i in range(len(h)):\n",
    "        if (h[i] != -1):\n",
    "            if (h[i] < aux):\n",
    "                pos = i\n",
    "\n",
    "    print(f\"Vou escolher o estado com h = {h[pos]}\") \n",
    "\n",
    "\n",
    "\n",
    "    print(f\"Iteracao {key}:\\n{estado1} e {estado2} e {estado3} e {estado4}\")\n",
    "    print(f\"H de cada um: {h1} e {h2} e {h3} e {h4}\")"
   ]
  },
  {
   "cell_type": "code",
   "execution_count": null,
   "metadata": {},
   "outputs": [],
   "source": []
  }
 ],
 "metadata": {
  "kernelspec": {
   "display_name": "Python 3.8.5 64-bit",
   "language": "python",
   "name": "python3"
  },
  "language_info": {
   "codemirror_mode": {
    "name": "ipython",
    "version": 3
   },
   "file_extension": ".py",
   "mimetype": "text/x-python",
   "name": "python",
   "nbconvert_exporter": "python",
   "pygments_lexer": "ipython3",
   "version": "3.8.5"
  },
  "orig_nbformat": 4,
  "vscode": {
   "interpreter": {
    "hash": "570feb405e2e27c949193ac68f46852414290d515b0ba6e5d90d076ed2284471"
   }
  }
 },
 "nbformat": 4,
 "nbformat_minor": 2
}
